import pandas as pd
import numpy as np

from os.path import join
from pprint import pprint

d_file = "taxi-trips.csv"
df = pd.read_csv(join(d_file))
df

df.dtypes

!pip install reverse_geocoder
import reverse_geocoder as rg

pickup = df[['pickup_latitude', 'pickup_longitude']].apply(tuple, axis=1).tolist()
dropoff = df[['dropoff_latitude', 'dropoff_longitude']].apply(tuple, axis=1).tolist()

p_results = rg.search(pickup, mode=2)
df['pickup_district'] = [x['name'] for x in p_results]
d_results = rg.search(dropoff, mode=2)
df['dropoff_district'] = [x['name'] for x in d_results]

df.head()

from collections import Counter

a = df['pickup_district'].tolist()
b = df['dropoff_district'].tolist()

most_common_words1 = [word for word, word_count in Counter(a).most_common(5)]
print (most_common_words1)

most_common_words2 = [word for word, word_count in Counter(b).most_common(5)]
print (most_common_words2)

!pip install geopy
def distancer(row):

from geopy.distance import geodesic
coords_1 = (row['pickup_latitude'], row['pickup_longitude'])
coords_2 = (row['dropoff_latitude'], row['dropoff_longitude'])
return geodesic(coords_1, coords_2).miles

df['distance'] = df.apply(distancer, axis=1)

df.head()

!pip install python-dateutil
from datetime import datetime
from dateutil.parser import parse

dates = df['pickup_datetime'].tolist()
d_Results = [datetime.strptime(x, '%Y-%m-%d %H:%M:%S') for x in dates]
myarray = np.asarray(d_Results)

seven = datetime.strptime('07:00', '%H:%M').time()
nine = datetime.strptime('09:00', '%H:%M').time()
four = datetime.strptime('16:00', '%H:%M').time()
six = datetime.strptime('18:00', '%H:%M').time()
eleven = datetime.strptime('23:00', '%H:%M').time()

def timestamps(d_Results):

    mylist = []
    
    for i in range (len(d_Results)):
        date_object = myarray[i]
        n = date_object.time()
        if seven <= n <= nine: 
            mylist.insert(i,'rush hour morning')
        elif nine <= n <= four: 
            mylist.insert(i,'afternoon')
        elif four <= n <= six: 
            mylist.insert(i,'rush hour evening')
        elif six <= n <= eleven: 
            mylist.insert(i,'evening')
        else: 
            mylist.insert(i,'late night')
            
    return mylist
df['time_of_day'] = timestamps(d_Results)

df.head()

import matplotlib.pyplot as plt
from scipy import stats
from datetime import datetime
import seaborn as sns
%matplotlib inline

df.groupby('time_of_day').sum()
avg_distance = df.groupby('time_of_day')['distance'].mean()
dframe = pd.DataFrame(avg_distance)
dframe

dframe.plot.bar()
plt.ylabel("Average Distance")
plt.xlabel("Time of the Day")
plt.title("Average Distance vs Time of the Day")
plt.style.use('ggplot')
plt.show()

trip_duration = df.groupby('time_of_day')['trip_duration'].mean()
dframe1 = pd.DataFrame(trip_duration)
dframe1

import matplotlib.pyplot as plt1

dframe1.plot.bar()
plt1.ylabel("Trip Duration")
plt1.xlabel("Time of the Day")
plt1.title("Sum of Trip Duration vs Time of the Day")
plt1.style.use('ggplot')
plt1.show()

df.head()

pas_one = df[(df['passenger_count'] == 1)]
pas_biggerthan_one = df[(df['passenger_count'] > 1)]

import seaborn as sns

ax = sns.kdeplot(pas_one['distance'].rename("passenger group = 1"), shade=True)
sns.kdeplot(pas_biggerthan_one['distance'].rename("passenger group > 1"), ax=ax, shade=True)

plt.show()

one = pas_one['distance'].values
biggertone = pas_biggerthan_one['distance'].values

from scipy import stats

_, p_value = stats.ttest_ind(a=one, b=biggertone, equal_var=False)
p_value

#If the p-value is less than 0.05, we reject the null hypothesis.
#9.445117080448936e-07 > 0.05,so we cannot reject the null hypothesis.

df['pickup_datetime'] = pd.to_datetime(df['pickup_datetime'])
df['dropoff_datetime'] = pd.to_datetime(df['dropoff_datetime'])

weekday = df[(df['pickup_datetime'].dt.weekday < 5)]
weekend = df[(df['pickup_datetime'].dt.weekday > 4)]

import seaborn as sns

ax = sns.kdeplot(weekday['trip_duration'].rename("weekday"), shade=True)
sns.kdeplot(weekend['trip_duration'].rename("weekend"), ax=ax, shade=True)
plt.show()

weekd = weekday['trip_duration'].values
weeknd = weekend['trip_duration'].values

from scipy import stats
_, p_value = stats.ttest_ind(a=weekd, b=weeknd, equal_var=False)
p_value

#If the p-value is less than 0.05, we reject the null hypothesis.
#0.018193740149220382 < 0.05, so we reject the null hypothesis.